{
 "cells": [
  {
   "cell_type": "code",
   "execution_count": 2,
   "metadata": {},
   "outputs": [
    {
     "name": "stdout",
     "output_type": "stream",
     "text": [
      "The company for Data Scientist is AI Solutions with a total monthly compensation of 121000.00000000001\n"
     ]
    }
   ],
   "source": [
    "job_title = 'Data Scientist'\n",
    "company = 'AI Solutions'\n",
    "salary = 110000\n",
    "bonus = 0.1\n",
    "total_compensation = salary*(1+bonus)\n",
    "print(f'The company for {job_title} is {company} with a total monthly compensation of {total_compensation}')"
   ]
  }
 ],
 "metadata": {
  "kernelspec": {
   "display_name": "python_course",
   "language": "python",
   "name": "python3"
  },
  "language_info": {
   "codemirror_mode": {
    "name": "ipython",
    "version": 3
   },
   "file_extension": ".py",
   "mimetype": "text/x-python",
   "name": "python",
   "nbconvert_exporter": "python",
   "pygments_lexer": "ipython3",
   "version": "3.11.11"
  }
 },
 "nbformat": 4,
 "nbformat_minor": 2
}
